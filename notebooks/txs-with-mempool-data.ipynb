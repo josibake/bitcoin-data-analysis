{
 "cells": [
  {
   "cell_type": "code",
   "execution_count": 1,
   "id": "83a09b52",
   "metadata": {
    "scrolled": true
   },
   "outputs": [],
   "source": [
    "%load_ext google.cloud.bigquery\n",
    "%matplotlib inline\n",
    "\n",
    "# some pandas options\n",
    "import pandas as pd\n",
    "import matplotlib as mpl\n",
    "import matplotlib.pyplot as plt\n",
    "import seaborn as sns\n",
    "sns.set_theme()\n",
    "\n",
    "pd.set_option(\"display.expand_frame_repr\", False)\n",
    "pd.set_option('display.max_columns', None)\n",
    "pd.set_option('display.max_rows', 1000)\n",
    "pd.set_option('display.max_colwidth', None)\n",
    "\n",
    "sats = 100000000"
   ]
  },
  {
   "cell_type": "code",
   "execution_count": 2,
   "id": "653ba2fe",
   "metadata": {},
   "outputs": [
    {
     "name": "stderr",
     "output_type": "stream",
     "text": [
      "Query complete after 0.01s: 100%|██████████████████████████████████████████████████████████████████████████████████████████████████████████████████████████| 6/6 [00:00<00:00, 2592.01query/s]\n",
      "Downloading: 100%|████████████████████████████████████████████████████████████████████████████████████████████████████████████████████████████████| 330262/330262 [01:30<00:00, 3648.49rows/s]\n"
     ]
    }
   ],
   "source": [
    "%%bigquery txs\n",
    "SELECT txs.*, mem.first_seen, mem.last_seen FROM `bitcoin-data-analysis-320014.transaction_analysis.txs_two_or_less_outputs` txs JOIN\n",
    "(SELECT tx_hash\n",
    "     , MIN(first_seen_block_height) AS first_seen\n",
    "     , MAX(file_block_height) AS last_seen\n",
    "FROM (\n",
    "SELECT `index` AS tx_hash\n",
    "     , height AS first_seen_block_height\n",
    "     , REGEXP_EXTRACT(_FILE_NAME, r'[^_]*', 44) AS file_block_height \n",
    "  FROM `bitcoin-data-analysis-320014.transaction_analysis.mempool_snapshots_ext` \n",
    ") GROUP BY 1) mem ON txs.tx_hash = mem.tx_hash\n",
    "WHERE DATE(txs.block_timestamp)= '2021-02-02'"
   ]
  },
  {
   "cell_type": "code",
   "execution_count": 8,
   "id": "7a448128",
   "metadata": {},
   "outputs": [],
   "source": [
    "txs['block_wait_time'] = txs['block_number'] - txs['first_seen']"
   ]
  },
  {
   "cell_type": "code",
   "execution_count": 10,
   "id": "2f0d7a8e",
   "metadata": {},
   "outputs": [
    {
     "data": {
      "text/plain": [
       "<AxesSubplot:ylabel='Frequency'>"
      ]
     },
     "execution_count": 10,
     "metadata": {},
     "output_type": "execute_result"
    },
    {
     "data": {
      "image/png": "[encoded data removed]",
      "text/plain": [
       "<Figure size 432x288 with 1 Axes>"
      ]
     },
     "metadata": {},
     "output_type": "display_data"
    }
   ],
   "source": [
    "txs['block_wait_time'].plot(kind='hist', bins=100)"
   ]
  },
  {
   "cell_type": "code",
   "execution_count": 11,
   "id": "1c79d0ba",
   "metadata": {},
   "outputs": [
    {
     "data": {
      "text/plain": [
       "count    330262.000000\n",
       "mean          9.730911\n",
       "std          27.406746\n",
       "min           1.000000\n",
       "25%           1.000000\n",
       "50%           1.000000\n",
       "75%           4.000000\n",
       "max        1719.000000\n",
       "Name: block_wait_time, dtype: float64"
      ]
     },
     "execution_count": 11,
     "metadata": {},
     "output_type": "execute_result"
    }
   ],
   "source": [
    "txs['block_wait_time'].describe()"
   ]
  },
  {
   "cell_type": "code",
   "execution_count": 14,
   "id": "de7e5b5d",
   "metadata": {},
   "outputs": [
    {
     "data": {
      "text/html": [
       "<div>\n",
       "<style scoped>\n",
       "    .dataframe tbody tr th:only-of-type {\n",
       "        vertical-align: middle;\n",
       "    }\n",
       "\n",
       "    .dataframe tbody tr th {\n",
       "        vertical-align: top;\n",
       "    }\n",
       "\n",
       "    .dataframe thead th {\n",
       "        text-align: right;\n",
       "    }\n",
       "</style>\n",
       "<table border=\"1\" class=\"dataframe\">\n",
       "  <thead>\n",
       "    <tr style=\"text-align: right;\">\n",
       "      <th></th>\n",
       "      <th>tx_hash</th>\n",
       "      <th>block_timestamp</th>\n",
       "      <th>block_number</th>\n",
       "      <th>input_count</th>\n",
       "      <th>output_count</th>\n",
       "      <th>input_type</th>\n",
       "      <th>output_type</th>\n",
       "      <th>input_value</th>\n",
       "      <th>output_value</th>\n",
       "      <th>payment_value</th>\n",
       "      <th>change_value</th>\n",
       "      <th>mining_fee</th>\n",
       "      <th>mining_fee_rate</th>\n",
       "      <th>payment_usd</th>\n",
       "      <th>change_usd</th>\n",
       "      <th>fee_usd</th>\n",
       "      <th>block_fullness</th>\n",
       "      <th>heuristic</th>\n",
       "      <th>first_seen</th>\n",
       "      <th>last_seen</th>\n",
       "      <th>block_wait_time</th>\n",
       "    </tr>\n",
       "  </thead>\n",
       "  <tbody>\n",
       "    <tr>\n",
       "      <th>286974</th>\n",
       "      <td>d96a0da65169739552ab308fc890243ae59baa6466118b80cde339ded6e108aa</td>\n",
       "      <td>2021-02-02 23:39:03+00:00</td>\n",
       "      <td>668817</td>\n",
       "      <td>1</td>\n",
       "      <td>2</td>\n",
       "      <td>witness_v0_keyhash</td>\n",
       "      <td>mixed_outputs</td>\n",
       "      <td>6100</td>\n",
       "      <td>5816</td>\n",
       "      <td>1269.0</td>\n",
       "      <td>4547.0</td>\n",
       "      <td>284</td>\n",
       "      <td>2.000000</td>\n",
       "      <td>0.44</td>\n",
       "      <td>1.57</td>\n",
       "      <td>0.10</td>\n",
       "      <td>0.998414</td>\n",
       "      <td>matching_address_type</td>\n",
       "      <td>667098</td>\n",
       "      <td>668816</td>\n",
       "      <td>1719</td>\n",
       "    </tr>\n",
       "    <tr>\n",
       "      <th>121692</th>\n",
       "      <td>0f31c3a10e7f4d49489e6bacd78e5fc9f07e5fe88c05a8819dc8b6ecc470f7fd</td>\n",
       "      <td>2021-02-02 23:39:03+00:00</td>\n",
       "      <td>668817</td>\n",
       "      <td>1</td>\n",
       "      <td>2</td>\n",
       "      <td>witness_v0_keyhash</td>\n",
       "      <td>mixed_outputs</td>\n",
       "      <td>5411</td>\n",
       "      <td>5127</td>\n",
       "      <td>2826.0</td>\n",
       "      <td>2301.0</td>\n",
       "      <td>284</td>\n",
       "      <td>2.000000</td>\n",
       "      <td>0.98</td>\n",
       "      <td>0.79</td>\n",
       "      <td>0.10</td>\n",
       "      <td>0.998414</td>\n",
       "      <td>matching_address_type</td>\n",
       "      <td>667098</td>\n",
       "      <td>668816</td>\n",
       "      <td>1719</td>\n",
       "    </tr>\n",
       "    <tr>\n",
       "      <th>87445</th>\n",
       "      <td>d6f7785dd28941cb22a9887105c6bcd83576f474f835f356b2b6013a513352af</td>\n",
       "      <td>2021-02-02 11:39:19+00:00</td>\n",
       "      <td>668737</td>\n",
       "      <td>2</td>\n",
       "      <td>2</td>\n",
       "      <td>pubkeyhash</td>\n",
       "      <td>mixed_outputs</td>\n",
       "      <td>232684</td>\n",
       "      <td>231940</td>\n",
       "      <td>220203.0</td>\n",
       "      <td>11737.0</td>\n",
       "      <td>744</td>\n",
       "      <td>2.010811</td>\n",
       "      <td>76.02</td>\n",
       "      <td>4.05</td>\n",
       "      <td>0.26</td>\n",
       "      <td>0.998780</td>\n",
       "      <td>matching_address_type</td>\n",
       "      <td>667026</td>\n",
       "      <td>668736</td>\n",
       "      <td>1711</td>\n",
       "    </tr>\n",
       "    <tr>\n",
       "      <th>69372</th>\n",
       "      <td>a08729e044dbb74861651dfec1401a2dc89a11eac8ac8b351d3032b9f5a69800</td>\n",
       "      <td>2021-02-02 15:25:15+00:00</td>\n",
       "      <td>668766</td>\n",
       "      <td>1</td>\n",
       "      <td>2</td>\n",
       "      <td>witness_v0_keyhash</td>\n",
       "      <td>witness_v0_keyhash</td>\n",
       "      <td>1438884</td>\n",
       "      <td>1438602</td>\n",
       "      <td>NaN</td>\n",
       "      <td>NaN</td>\n",
       "      <td>282</td>\n",
       "      <td>2.000000</td>\n",
       "      <td>NaN</td>\n",
       "      <td>NaN</td>\n",
       "      <td>0.10</td>\n",
       "      <td>0.998527</td>\n",
       "      <td>None</td>\n",
       "      <td>667093</td>\n",
       "      <td>668765</td>\n",
       "      <td>1673</td>\n",
       "    </tr>\n",
       "    <tr>\n",
       "      <th>232675</th>\n",
       "      <td>254daea7892c7a36e1e032ed4b4511038e64cba6aba3fd3bea00b5095d6488fc</td>\n",
       "      <td>2021-02-02 04:28:29+00:00</td>\n",
       "      <td>668694</td>\n",
       "      <td>2</td>\n",
       "      <td>2</td>\n",
       "      <td>scripthash</td>\n",
       "      <td>scripthash</td>\n",
       "      <td>282168</td>\n",
       "      <td>281656</td>\n",
       "      <td>NaN</td>\n",
       "      <td>NaN</td>\n",
       "      <td>512</td>\n",
       "      <td>2.000000</td>\n",
       "      <td>NaN</td>\n",
       "      <td>NaN</td>\n",
       "      <td>0.18</td>\n",
       "      <td>1.000159</td>\n",
       "      <td>None</td>\n",
       "      <td>667098</td>\n",
       "      <td>668693</td>\n",
       "      <td>1596</td>\n",
       "    </tr>\n",
       "    <tr>\n",
       "      <th>...</th>\n",
       "      <td>...</td>\n",
       "      <td>...</td>\n",
       "      <td>...</td>\n",
       "      <td>...</td>\n",
       "      <td>...</td>\n",
       "      <td>...</td>\n",
       "      <td>...</td>\n",
       "      <td>...</td>\n",
       "      <td>...</td>\n",
       "      <td>...</td>\n",
       "      <td>...</td>\n",
       "      <td>...</td>\n",
       "      <td>...</td>\n",
       "      <td>...</td>\n",
       "      <td>...</td>\n",
       "      <td>...</td>\n",
       "      <td>...</td>\n",
       "      <td>...</td>\n",
       "      <td>...</td>\n",
       "      <td>...</td>\n",
       "      <td>...</td>\n",
       "    </tr>\n",
       "    <tr>\n",
       "      <th>205768</th>\n",
       "      <td>254bdfe6370cd3ad6176d4f4f73470a795664dc82d7ade1150668053f89abfef</td>\n",
       "      <td>2021-02-02 00:31:25+00:00</td>\n",
       "      <td>668671</td>\n",
       "      <td>1</td>\n",
       "      <td>1</td>\n",
       "      <td>witness_v0_keyhash</td>\n",
       "      <td>scripthash</td>\n",
       "      <td>239664</td>\n",
       "      <td>225678</td>\n",
       "      <td>225678.0</td>\n",
       "      <td>0.0</td>\n",
       "      <td>13986</td>\n",
       "      <td>126.000000</td>\n",
       "      <td>77.91</td>\n",
       "      <td>0.00</td>\n",
       "      <td>4.83</td>\n",
       "      <td>0.999110</td>\n",
       "      <td>single_output</td>\n",
       "      <td>668670</td>\n",
       "      <td>668670</td>\n",
       "      <td>1</td>\n",
       "    </tr>\n",
       "    <tr>\n",
       "      <th>205769</th>\n",
       "      <td>448d04b8b6f9b98b7cf89f10267771ba5029606d88ed87e7f388c9a28e4bb742</td>\n",
       "      <td>2021-02-02 00:31:25+00:00</td>\n",
       "      <td>668671</td>\n",
       "      <td>7</td>\n",
       "      <td>1</td>\n",
       "      <td>mixed_inputs</td>\n",
       "      <td>witness_v0_scripthash</td>\n",
       "      <td>4507117</td>\n",
       "      <td>4339400</td>\n",
       "      <td>4339400.0</td>\n",
       "      <td>0.0</td>\n",
       "      <td>167717</td>\n",
       "      <td>166.716700</td>\n",
       "      <td>1498.04</td>\n",
       "      <td>0.00</td>\n",
       "      <td>57.90</td>\n",
       "      <td>0.999110</td>\n",
       "      <td>single_output</td>\n",
       "      <td>668670</td>\n",
       "      <td>668670</td>\n",
       "      <td>1</td>\n",
       "    </tr>\n",
       "    <tr>\n",
       "      <th>205770</th>\n",
       "      <td>6937d4cabcffd520988f29f42e9a607e32777b4530be1a2229dd20e9c03eb531</td>\n",
       "      <td>2021-02-02 00:31:25+00:00</td>\n",
       "      <td>668671</td>\n",
       "      <td>1</td>\n",
       "      <td>1</td>\n",
       "      <td>witness_v0_keyhash</td>\n",
       "      <td>scripthash</td>\n",
       "      <td>25000</td>\n",
       "      <td>11377</td>\n",
       "      <td>11377.0</td>\n",
       "      <td>0.0</td>\n",
       "      <td>13623</td>\n",
       "      <td>122.729730</td>\n",
       "      <td>3.93</td>\n",
       "      <td>0.00</td>\n",
       "      <td>4.70</td>\n",
       "      <td>0.999110</td>\n",
       "      <td>single_output</td>\n",
       "      <td>668670</td>\n",
       "      <td>668670</td>\n",
       "      <td>1</td>\n",
       "    </tr>\n",
       "    <tr>\n",
       "      <th>205771</th>\n",
       "      <td>6a0f799285506eab146d559f7a72b73cdaf1308af16b2d3d1c80123b4ea0e268</td>\n",
       "      <td>2021-02-02 00:31:25+00:00</td>\n",
       "      <td>668671</td>\n",
       "      <td>1</td>\n",
       "      <td>1</td>\n",
       "      <td>pubkeyhash</td>\n",
       "      <td>pubkeyhash</td>\n",
       "      <td>9093377</td>\n",
       "      <td>9068356</td>\n",
       "      <td>9068356.0</td>\n",
       "      <td>0.0</td>\n",
       "      <td>25021</td>\n",
       "      <td>130.317708</td>\n",
       "      <td>3130.55</td>\n",
       "      <td>0.00</td>\n",
       "      <td>8.64</td>\n",
       "      <td>0.999110</td>\n",
       "      <td>single_output</td>\n",
       "      <td>668670</td>\n",
       "      <td>668670</td>\n",
       "      <td>1</td>\n",
       "    </tr>\n",
       "    <tr>\n",
       "      <th>330261</th>\n",
       "      <td>6c8759d9a624892cc0eb923389dd7445013f7d38eb9f4e1071cdc4ea09ab963b</td>\n",
       "      <td>2021-02-02 01:13:27+00:00</td>\n",
       "      <td>668674</td>\n",
       "      <td>1</td>\n",
       "      <td>2</td>\n",
       "      <td>scripthash</td>\n",
       "      <td>mixed_outputs</td>\n",
       "      <td>64350754</td>\n",
       "      <td>64326154</td>\n",
       "      <td>1020959.0</td>\n",
       "      <td>63305195.0</td>\n",
       "      <td>24600</td>\n",
       "      <td>120.000000</td>\n",
       "      <td>352.45</td>\n",
       "      <td>21854.06</td>\n",
       "      <td>8.49</td>\n",
       "      <td>0.998910</td>\n",
       "      <td>return_change_to_input_address</td>\n",
       "      <td>668673</td>\n",
       "      <td>668673</td>\n",
       "      <td>1</td>\n",
       "    </tr>\n",
       "  </tbody>\n",
       "</table>\n",
       "<p>330262 rows × 21 columns</p>\n",
       "</div>"
      ],
      "text/plain": [
       "                                                                 tx_hash           block_timestamp  block_number  input_count  output_count          input_type            output_type  input_value  output_value  payment_value  change_value  mining_fee  mining_fee_rate  payment_usd  change_usd  fee_usd  block_fullness                       heuristic  first_seen last_seen  block_wait_time\n",
       "286974  d96a0da65169739552ab308fc890243ae59baa6466118b80cde339ded6e108aa 2021-02-02 23:39:03+00:00        668817            1             2  witness_v0_keyhash          mixed_outputs         6100          5816         1269.0        4547.0         284         2.000000         0.44        1.57     0.10        0.998414           matching_address_type      667098    668816             1719\n",
       "121692  0f31c3a10e7f4d49489e6bacd78e5fc9f07e5fe88c05a8819dc8b6ecc470f7fd 2021-02-02 23:39:03+00:00        668817            1             2  witness_v0_keyhash          mixed_outputs         5411          5127         2826.0        2301.0         284         2.000000         0.98        0.79     0.10        0.998414           matching_address_type      667098    668816             1719\n",
       "87445   d6f7785dd28941cb22a9887105c6bcd83576f474f835f356b2b6013a513352af 2021-02-02 11:39:19+00:00        668737            2             2          pubkeyhash          mixed_outputs       232684        231940       220203.0       11737.0         744         2.010811        76.02        4.05     0.26        0.998780           matching_address_type      667026    668736             1711\n",
       "69372   a08729e044dbb74861651dfec1401a2dc89a11eac8ac8b351d3032b9f5a69800 2021-02-02 15:25:15+00:00        668766            1             2  witness_v0_keyhash     witness_v0_keyhash      1438884       1438602            NaN           NaN         282         2.000000          NaN         NaN     0.10        0.998527                            None      667093    668765             1673\n",
       "232675  254daea7892c7a36e1e032ed4b4511038e64cba6aba3fd3bea00b5095d6488fc 2021-02-02 04:28:29+00:00        668694            2             2          scripthash             scripthash       282168        281656            NaN           NaN         512         2.000000          NaN         NaN     0.18        1.000159                            None      667098    668693             1596\n",
       "...                                                                  ...                       ...           ...          ...           ...                 ...                    ...          ...           ...            ...           ...         ...              ...          ...         ...      ...             ...                             ...         ...       ...              ...\n",
       "205768  254bdfe6370cd3ad6176d4f4f73470a795664dc82d7ade1150668053f89abfef 2021-02-02 00:31:25+00:00        668671            1             1  witness_v0_keyhash             scripthash       239664        225678       225678.0           0.0       13986       126.000000        77.91        0.00     4.83        0.999110                   single_output      668670    668670                1\n",
       "205769  448d04b8b6f9b98b7cf89f10267771ba5029606d88ed87e7f388c9a28e4bb742 2021-02-02 00:31:25+00:00        668671            7             1        mixed_inputs  witness_v0_scripthash      4507117       4339400      4339400.0           0.0      167717       166.716700      1498.04        0.00    57.90        0.999110                   single_output      668670    668670                1\n",
       "205770  6937d4cabcffd520988f29f42e9a607e32777b4530be1a2229dd20e9c03eb531 2021-02-02 00:31:25+00:00        668671            1             1  witness_v0_keyhash             scripthash        25000         11377        11377.0           0.0       13623       122.729730         3.93        0.00     4.70        0.999110                   single_output      668670    668670                1\n",
       "205771  6a0f799285506eab146d559f7a72b73cdaf1308af16b2d3d1c80123b4ea0e268 2021-02-02 00:31:25+00:00        668671            1             1          pubkeyhash             pubkeyhash      9093377       9068356      9068356.0           0.0       25021       130.317708      3130.55        0.00     8.64        0.999110                   single_output      668670    668670                1\n",
       "330261  6c8759d9a624892cc0eb923389dd7445013f7d38eb9f4e1071cdc4ea09ab963b 2021-02-02 01:13:27+00:00        668674            1             2          scripthash          mixed_outputs     64350754      64326154      1020959.0    63305195.0       24600       120.000000       352.45    21854.06     8.49        0.998910  return_change_to_input_address      668673    668673                1\n",
       "\n",
       "[330262 rows x 21 columns]"
      ]
     },
     "execution_count": 14,
     "metadata": {},
     "output_type": "execute_result"
    }
   ],
   "source": [
    "txs.sort_values(by='block_wait_time', ascending=False)"
   ]
  },
  {
   "cell_type": "code",
   "execution_count": 15,
   "id": "b3abe33d",
   "metadata": {},
   "outputs": [
    {
     "data": {
      "text/plain": [
       "6935502"
      ]
     },
     "execution_count": 15,
     "metadata": {},
     "output_type": "execute_result"
    }
   ],
   "source": [
    "txs.size"
   ]
  },
  {
   "cell_type": "code",
   "execution_count": 16,
   "id": "741af52b",
   "metadata": {},
   "outputs": [
    {
     "data": {
      "text/plain": [
       "0"
      ]
     },
     "execution_count": 16,
     "metadata": {},
     "output_type": "execute_result"
    }
   ],
   "source": [
    "txs[txs['block_wait_time'].isnull()].size"
   ]
  },
  {
   "cell_type": "code",
   "execution_count": 27,
   "id": "0596c03c",
   "metadata": {},
   "outputs": [
    {
     "name": "stderr",
     "output_type": "stream",
     "text": [
      "*c* argument looks like a single numeric RGB or RGBA sequence, which should be avoided as value-mapping will have precedence in case its length matches with *x* & *y*.  Please use the *color* keyword-argument or provide a 2D array with a single row if you intend to specify the same RGB or RGBA value for all points.\n"
     ]
    },
    {
     "data": {
      "text/plain": [
       "<AxesSubplot:xlabel='mining_fee_rate', ylabel='block_wait_time'>"
      ]
     },
     "execution_count": 27,
     "metadata": {},
     "output_type": "execute_result"
    },
    {
     "data": {
      "image/png": "[encoded data removed]",
      "text/plain": [
       "<Figure size 1152x720 with 1 Axes>"
      ]
     },
     "metadata": {},
     "output_type": "display_data"
    }
   ],
   "source": [
    "txs.plot.scatter(\n",
    "    x='mining_fee_rate', \n",
    "    y='block_wait_time', \n",
    "    figsize=(16,10),\n",
    "    #c='mining_fee',\n",
    "    #colormap='viridis',\n",
    ")"
   ]
  },
  {
   "cell_type": "code",
   "execution_count": 26,
   "id": "b731224e",
   "metadata": {},
   "outputs": [
    {
     "name": "stderr",
     "output_type": "stream",
     "text": [
      "*c* argument looks like a single numeric RGB or RGBA sequence, which should be avoided as value-mapping will have precedence in case its length matches with *x* & *y*.  Please use the *color* keyword-argument or provide a 2D array with a single row if you intend to specify the same RGB or RGBA value for all points.\n"
     ]
    },
    {
     "data": {
      "text/plain": [
       "<AxesSubplot:xlabel='mining_fee_rate', ylabel='block_wait_time'>"
      ]
     },
     "execution_count": 26,
     "metadata": {},
     "output_type": "execute_result"
    },
    {
     "data": {
      "image/png": "[encoded data removed]",
      "text/plain": [
       "<Figure size 1152x720 with 1 Axes>"
      ]
     },
     "metadata": {},
     "output_type": "display_data"
    }
   ],
   "source": [
    "txs[\n",
    "    (txs.block_wait_time < 250) & \n",
    "    (txs.mining_fee_rate < 2500)\n",
    "].plot.scatter(\n",
    "    x='mining_fee_rate', \n",
    "    y='block_wait_time',\n",
    "    #c='mining_fee',\n",
    "    #colormap='viridis',\n",
    "    figsize=(16,10))"
   ]
  },
  {
   "cell_type": "code",
   "execution_count": null,
   "id": "058cd0f6",
   "metadata": {},
   "outputs": [],
   "source": []
  }
 ],
 "metadata": {
  "kernelspec": {
   "display_name": "Python 3",
   "language": "python",
   "name": "python3"
  },
  "language_info": {
   "codemirror_mode": {
    "name": "ipython",
    "version": 3
   },
   "file_extension": ".py",
   "mimetype": "text/x-python",
   "name": "python",
   "nbconvert_exporter": "python",
   "pygments_lexer": "ipython3",
   "version": "3.9.7"
  }
 },
 "nbformat": 4,
 "nbformat_minor": 5
}
